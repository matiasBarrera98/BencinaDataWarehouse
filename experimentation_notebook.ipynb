{
 "cells": [
  {
   "cell_type": "code",
   "execution_count": 1,
   "id": "db5b5013-4cd6-432f-889b-7bc5421686bc",
   "metadata": {},
   "outputs": [],
   "source": [
    "import warnings\n",
    "warnings.simplefilter(action='ignore', category=FutureWarning)"
   ]
  },
  {
   "cell_type": "code",
   "execution_count": 2,
   "id": "d7973dc8-d285-4107-973d-edf9a2c3b605",
   "metadata": {},
   "outputs": [],
   "source": [
    "from google.cloud import bigquery\n",
    "import pandas as pd\n",
    "import requests as rq\n",
    "from datetime import datetime, timedelta\n",
    "import time\n",
    "\n",
    "\n",
    "# URL de API de bencinas\n",
    "URL = 'https://api.cne.cl/v3/combustibles/vehicular/estaciones?token=LI6qhEbKop'\n",
    "\n",
    "# Solicitud a la API\n",
    "res = rq.get(URL)\n",
    "data = res.json()['data']\n",
    "\n",
    "# Creación del dataframe a partir del json recibido\n",
    "df = pd.json_normalize(data)\n",
    "\n"
   ]
  },
  {
   "cell_type": "code",
   "execution_count": null,
   "id": "5ab4c56e-c9c0-42fe-a777-e511d02a6a3d",
   "metadata": {},
   "outputs": [],
   "source": [
    "def get_data_from_api():  \n",
    "    for i in range(5):\n",
    "        error = True\n",
    "        try:\n",
    "            res = rq.get(URL)\n",
    "        except rq.exceptions.RequestException:  # This is the correct syntax\n",
    "            print('Error al intentar conectarse a la API, intentando nuevamente...')\n",
    "            time.sleep(3)\n",
    "        else:\n",
    "            error = False\n",
    "            break\n",
    "    if error:\n",
    "        raise Exception('No se puede conectar a la API')\n",
    "    return res.json()['data']\n"
   ]
  },
  {
   "cell_type": "code",
   "execution_count": null,
   "id": "b5d0a606-4279-4951-bda2-745d7cd77cd0",
   "metadata": {},
   "outputs": [],
   "source": [
    "dt = get_data_from_api()\n",
    "print(dt)"
   ]
  },
  {
   "cell_type": "code",
   "execution_count": 5,
   "id": "69eace74-7ac7-4d43-aba4-9e994d9f3a37",
   "metadata": {},
   "outputs": [],
   "source": [
    "TABLA_BENCINERAS = 'acquired-winter-316123.testing.bencinera'\n",
    "TABLA_FECHA = 'acquired-winter-316123.testing.fecha'\n",
    "TABLA_PRECIO_COMBUSTIBLE = 'acquired-winter-316123.testing.precio_combustible'\n",
    "TABLA_UBICACION = 'acquired-winter-316123.testing.ubicacion'"
   ]
  },
  {
   "cell_type": "code",
   "execution_count": null,
   "id": "0d12f8d6-c2a4-40c0-afd0-e9f0449feef8",
   "metadata": {},
   "outputs": [],
   "source": [
    "df.shape"
   ]
  },
  {
   "cell_type": "code",
   "execution_count": null,
   "id": "73263581-961a-4d7c-8f38-32de25f2c51e",
   "metadata": {},
   "outputs": [],
   "source": [
    "pd.set_option('display.max_columns', None)\n",
    "pd.set_option('display.max_rows', None)"
   ]
  },
  {
   "cell_type": "markdown",
   "id": "f5e1ba16-fa6a-4bc3-9fd8-3288544bd8d1",
   "metadata": {
    "tags": []
   },
   "source": [
    "# LIMPIEZA DE DATOS"
   ]
  },
  {
   "cell_type": "code",
   "execution_count": 3,
   "id": "7add50f1-dd35-4529-aad4-8b567bb9e3b5",
   "metadata": {},
   "outputs": [],
   "source": [
    "# Reemplazando caracteres en los nombres de las columnas para\n",
    "# que sean aceptados por bigquery\n",
    "df.columns = df.columns.astype(str).str.replace('.', '_')\n",
    "df.columns = df.columns.astype(str).str.replace(' ', '_')\n",
    "\n",
    "# Formato uniforme para los datos en columnas 'razon_social' y 'direccion_calle'\n",
    "df['razon_social'] = df['razon_social'].str.capitalize()\n",
    "df['direccion_calle'] = df['direccion_calle'].str.capitalize()\n",
    "\n",
    "# Eliminando palabras redundantes de los nombres de las columnas\n",
    "for i in ['precios_', 'metodos_de_', 'servicios_', 'ubicacion_']:\n",
    "    df.columns = df.columns.astype(str).str.replace(i, '')\n",
    "\n",
    "# Cambiando el tipo de dato a INTEGER\n",
    "for i in ['gasolina_93', 'gasolina_95', 'gasolina_97', 'petroleo_diesel', 'glp_vehicular', 'gnc']:\n",
    "    df[i] = df[i].apply(pd.to_numeric).round(0).astype('Int64')\n",
    "\n",
    "# Renombrando algunas columnas\n",
    "df.rename(columns={'fecha_hora_actualizacion': 'fecha_actualizacion', \n",
    "                    'id': 'id_bencinera'}, inplace=True)\n",
    "\n",
    "# En vez de considerar la última actualización como fecha, su usará la\n",
    "# fecha actual para registrar cuando se consultaron los datos, \n",
    "# y se asume que ese es el valor actual de la bencina\n",
    "fecha = datetime.now().strftime('%Y-%m-%d')\n",
    "df['fecha_actualizacion'] = fecha\n",
    "df['fecha_actualizacion'] = pd.to_datetime(df['fecha_actualizacion'])\n",
    "\n",
    "# Eliminando columnas que no se usarán\n",
    "df.drop(['id_comuna', 'id_region', 'distribuidor_logo', 'distribuidor_logo_horizontal_svg'], axis=1, inplace=True)\n",
    "\n",
    "df['id_ubicacion'] = df.index + 1\n"
   ]
  },
  {
   "cell_type": "code",
   "execution_count": 4,
   "id": "e36907ef-a052-4b79-a034-296260e8df3a",
   "metadata": {},
   "outputs": [],
   "source": [
    "def insert(client, dataframe, table_id):\n",
    "    # Insertando los datos de hoy\n",
    "    job_config = bigquery.LoadJobConfig(\n",
    "    )\n",
    "\n",
    "    job = client.load_table_from_dataframe(\n",
    "        df, table_id, job_config=job_config\n",
    "    )\n",
    "\n",
    "    job.result()  # Wait for the job to complete.\n",
    "\n",
    "    table = client.get_table(table_id)  # Make an API request.\n",
    "    print(\n",
    "        \"Se cargaron {} filas y {} columnas a la tabla {}\".format(\n",
    "            table.num_rows, len(table.schema), table_id\n",
    "        )\n",
    "    )"
   ]
  },
  {
   "cell_type": "code",
   "execution_count": 6,
   "id": "ff5d12f8-9b02-4c13-8fdb-927a32294965",
   "metadata": {},
   "outputs": [],
   "source": [
    "def check_alredy_executed(client):\n",
    "    fecha = datetime.now()\n",
    "    fecha = fecha.strftime('%Y-%m-%d')\n",
    "    tabla_fecha = 'acquired-winter-316123.datawarehouse.fecha'\n",
    "    query = f\"SELECT id_fecha from `{tabla_fecha}` WHERE fecha = '{fecha}'\"\n",
    "    res = client.query(query)\n",
    "    n_rows = res.result().total_rows\n",
    "    if n_rows > 0:\n",
    "        print('Hay fecha de hoy en tabla fecha')\n",
    "        last_id_fecha = list(res)[0][0]\n",
    "        tabla_comb = 'acquired-winter-316123.datawarehouse.precio_combustible'\n",
    "        q = f\"SELECT id_precio_combustible from `{tabla_comb}` WHERE id_fecha = {last_id_fecha}\"\n",
    "        res_comb = client.query(q)\n",
    "        n_rows_comb = res_comb.result().total_rows\n",
    "        if n_rows_comb > 0:\n",
    "            print('Hay registros de hoy en tabla precios')\n",
    "            print(f'Eliminando registros con id_fecha {last_id_fecha}')\n",
    "            dlt_stm = f\"DELETE from `{tabla_comb}` WHERE id_fecha = {last_id_fecha}\"\n",
    "            query_resp = client.query(dlt_stm)\n",
    "    "
   ]
  },
  {
   "cell_type": "code",
   "execution_count": null,
   "id": "3653b3b9-2913-4d0c-a401-518782e2ba82",
   "metadata": {},
   "outputs": [],
   "source": [
    "check_alredy_executed(client)"
   ]
  },
  {
   "cell_type": "code",
   "execution_count": 7,
   "id": "a58f1e0f-cc7e-4299-bf10-f5d249b4ea51",
   "metadata": {},
   "outputs": [],
   "source": [
    "client = bigquery.Client.from_service_account_json(\"acquired-winter-316123-d6459421edc5.json\")\n",
    "# check_alredy_executed(client, TABLA)\n",
    "\n",
    "# insert(client, df, TABLA)"
   ]
  },
  {
   "cell_type": "markdown",
   "id": "d639eb7f-1cbf-46be-aa46-40ea7dfbf020",
   "metadata": {
    "tags": []
   },
   "source": [
    "## TABLA FECHAS"
   ]
  },
  {
   "cell_type": "markdown",
   "id": "3b176c11-2c8f-4429-bade-8404491d542d",
   "metadata": {},
   "source": [
    "Función que consulta si hay fechas guardadas. En caso de no haber, guarda la fecha de hoy y parte el id correlativo en 1. En caso de haber filas, busca el último registro y verifica si es igual a la fecha actual (ya se ejecutó el trabajo hoy). De ser igual, devuelve ese mismo id; pero de ser diferente, guarda un nuevo registro con el id siguiente en la correlación"
   ]
  },
  {
   "cell_type": "code",
   "execution_count": 8,
   "id": "b8478526-ecb4-4cc1-b101-c47344de5dfb",
   "metadata": {},
   "outputs": [],
   "source": [
    "def insert_fecha():\n",
    "    id_tabla_fecha = 'acquired-winter-316123.datawarehouse.fecha'\n",
    "    q = f\"SELECT * FROM `{id_tabla_fecha}`\"\n",
    "    fecha = datetime.now().strftime('%Y-%m-%d')\n",
    "    res = client.query(q)\n",
    "    n_rows = res.result().total_rows\n",
    "    res = res.to_dataframe()\n",
    "    if n_rows > 0:\n",
    "        if res.iloc[-1].fecha.strftime('%Y-%m-%d') == fecha:\n",
    "            return res.iloc[-1].id_fecha\n",
    "        else:\n",
    "            next_id_fecha = int(res['id_fecha'].max() + 1)\n",
    "            to_insert = {'id_fecha': next_id_fecha, 'fecha': fecha}\n",
    "            client.insert_rows_json(id_tabla_fecha, [to_insert])\n",
    "            return next_id_fecha\n",
    "    to_insert = {'id_fecha': 1, 'fecha': fecha}\n",
    "    client.insert_rows_json(id_tabla_fecha, [to_insert])\n",
    "    return 1"
   ]
  },
  {
   "cell_type": "markdown",
   "id": "67b80994-9b40-41c7-b43d-0c95fb22211f",
   "metadata": {},
   "source": [
    "# DIVIDE DF"
   ]
  },
  {
   "cell_type": "code",
   "execution_count": null,
   "id": "4771b613-29aa-45ae-832b-e2d09adc84a4",
   "metadata": {},
   "outputs": [],
   "source": [
    "df.T"
   ]
  },
  {
   "cell_type": "markdown",
   "id": "68b9804c-426a-4353-974d-c423b16c81ce",
   "metadata": {
    "tags": []
   },
   "source": [
    "## TABLA DE HECHO"
   ]
  },
  {
   "cell_type": "code",
   "execution_count": null,
   "id": "b39f0edd-9a72-4850-aa82-cfd0066a7234",
   "metadata": {},
   "outputs": [],
   "source": [
    "df['id_ubicacion'] = df.index + 1"
   ]
  },
  {
   "cell_type": "code",
   "execution_count": 9,
   "id": "4f3d7350-a4e3-4535-b59d-d0fe5194b01c",
   "metadata": {},
   "outputs": [],
   "source": [
    "comb_tipos = ['gasolina_93', 'gasolina_95', 'gasolina_97', 'petroleo_diesel', 'glp_vehicular', 'gnc']"
   ]
  },
  {
   "cell_type": "code",
   "execution_count": null,
   "id": "df779491-a43f-46e9-9f65-209f038086d5",
   "metadata": {},
   "outputs": [],
   "source": [
    "df_2 = df.copy()\n",
    "\n",
    "fut_df = []\n",
    "for index, row in df_2.iterrows():\n",
    "    for tipo in comb_tipos:\n",
    "        new_row = [row.id_bencinera, row.id_ubicacion, tipo, row[tipo]]\n",
    "        fut_df.append(new_row)\n",
    "    "
   ]
  },
  {
   "cell_type": "code",
   "execution_count": null,
   "id": "a5ef1926-93bf-463d-bb8c-b73521f8d166",
   "metadata": {},
   "outputs": [],
   "source": [
    "hecho_df = pd.DataFrame(data=fut_df, columns=['id_bencinera', 'id_ubicacion', 'tipo_combustible', 'precio'])\n",
    "hecho_df.head(20)"
   ]
  },
  {
   "cell_type": "code",
   "execution_count": 16,
   "id": "bc252844-efd4-4a6d-8756-d2525bb351fd",
   "metadata": {},
   "outputs": [],
   "source": [
    "def set_id(df):\n",
    "    # q = \"SELECT * FROM `acquired-winter-316123.datawarehouse.precio_combustible`\"\n",
    "    # res = client.query(q)\n",
    "    # n_rows = res.result().total_rows\n",
    "    n_rows = 0\n",
    "    if n_rows > 0:\n",
    "        last_id_q = \"SELECT id_precio_combustible FROM `datawarehouse.precio_combustible` ORDER BY id_precio_combustible DESC LIMIT 1\"\n",
    "        res = client.query(last_id_q)\n",
    "        last_id = list(res)[0][0] + 1\n",
    "        df['id_precio_combustible'] = df.index + last_id\n",
    "    else:\n",
    "        df['id_precio_combustible'] = df.index + 1\n",
    "    return df"
   ]
  },
  {
   "cell_type": "code",
   "execution_count": 40,
   "id": "072a5bb8-807b-4dd9-b8ff-75e246840fce",
   "metadata": {},
   "outputs": [],
   "source": [
    "def main_table(df):\n",
    "    comb_tipos = ['gasolina_93', 'gasolina_95', 'gasolina_97', 'petroleo_diesel', 'glp_vehicular', 'gnc']\n",
    "    df_2 = df.copy()\n",
    "    fut_df = []\n",
    "    for index, row in df_2.iterrows():\n",
    "        print(row)\n",
    "        for tipo in comb_tipos:\n",
    "            precio = row[tipo]\n",
    "            if precio is pd.NA:\n",
    "                continue\n",
    "            new_row = [row.id_bencinera, row.id_ubicacion, tipo, precio]\n",
    "            fut_df.append(new_row)\n",
    "        break\n",
    "    df_hecho = pd.DataFrame(data=fut_df, columns=['id_bencinera', 'id_ubicacion', 'tipo_combustible', 'precio'])\n",
    "    df_hecho['id_fecha'] = 2 #insert_fecha()\n",
    "    df_hecho = set_id(df_hecho)\n",
    "    return df_hecho\n",
    "    "
   ]
  },
  {
   "cell_type": "code",
   "execution_count": 41,
   "id": "55a25d08-4da8-42f0-9225-17232c143223",
   "metadata": {},
   "outputs": [
    {
     "name": "stdout",
     "output_type": "stream",
     "text": [
      "id_bencinera                                               co110101\n",
      "fecha_actualizacion                             2022-12-06 00:00:00\n",
      "razon_social                        Iracabal otth henri edward jean\n",
      "direccion_calle                                               Vivar\n",
      "direccion_numero                                                402\n",
      "nombre_comuna                                               Iquique\n",
      "nombre_region                                              Tarapacá\n",
      "horario_atencion                                           24 horas\n",
      "distribuidor_nombre                                           Copec\n",
      "distribuidor_logo_svg            http://api.cne.cl/brands/copec.svg\n",
      "gasolina_93                                                    1344\n",
      "gasolina_97                                                    1420\n",
      "petroleo_diesel                                                1224\n",
      "gasolina_95                                                    1383\n",
      "pago_efectivo                                                  True\n",
      "pago_cheque                                                    True\n",
      "pago_tarjetas_bancarias                                        True\n",
      "pago_tarjetas_grandes_tiendas                                  True\n",
      "latitud                                                  -20.213349\n",
      "longitud                                                 -70.148566\n",
      "tienda                                                         True\n",
      "farmacia                                                      False\n",
      "mantencion                                                    False\n",
      "autoservicio                                                  False\n",
      "glp_vehicular                                                  <NA>\n",
      "gnc                                                            <NA>\n",
      "id_ubicacion                                                      1\n",
      "Name: 0, dtype: object\n"
     ]
    },
    {
     "data": {
      "text/html": [
       "<div>\n",
       "<style scoped>\n",
       "    .dataframe tbody tr th:only-of-type {\n",
       "        vertical-align: middle;\n",
       "    }\n",
       "\n",
       "    .dataframe tbody tr th {\n",
       "        vertical-align: top;\n",
       "    }\n",
       "\n",
       "    .dataframe thead th {\n",
       "        text-align: right;\n",
       "    }\n",
       "</style>\n",
       "<table border=\"1\" class=\"dataframe\">\n",
       "  <thead>\n",
       "    <tr style=\"text-align: right;\">\n",
       "      <th></th>\n",
       "      <th>id_bencinera</th>\n",
       "      <th>id_ubicacion</th>\n",
       "      <th>tipo_combustible</th>\n",
       "      <th>precio</th>\n",
       "      <th>id_fecha</th>\n",
       "      <th>id_precio_combustible</th>\n",
       "    </tr>\n",
       "  </thead>\n",
       "  <tbody>\n",
       "    <tr>\n",
       "      <th>0</th>\n",
       "      <td>co110101</td>\n",
       "      <td>1</td>\n",
       "      <td>gasolina_93</td>\n",
       "      <td>1344</td>\n",
       "      <td>2</td>\n",
       "      <td>1</td>\n",
       "    </tr>\n",
       "    <tr>\n",
       "      <th>1</th>\n",
       "      <td>co110101</td>\n",
       "      <td>1</td>\n",
       "      <td>gasolina_95</td>\n",
       "      <td>1383</td>\n",
       "      <td>2</td>\n",
       "      <td>2</td>\n",
       "    </tr>\n",
       "    <tr>\n",
       "      <th>2</th>\n",
       "      <td>co110101</td>\n",
       "      <td>1</td>\n",
       "      <td>gasolina_97</td>\n",
       "      <td>1420</td>\n",
       "      <td>2</td>\n",
       "      <td>3</td>\n",
       "    </tr>\n",
       "    <tr>\n",
       "      <th>3</th>\n",
       "      <td>co110101</td>\n",
       "      <td>1</td>\n",
       "      <td>petroleo_diesel</td>\n",
       "      <td>1224</td>\n",
       "      <td>2</td>\n",
       "      <td>4</td>\n",
       "    </tr>\n",
       "  </tbody>\n",
       "</table>\n",
       "</div>"
      ],
      "text/plain": [
       "  id_bencinera  id_ubicacion tipo_combustible  precio  id_fecha  \\\n",
       "0     co110101             1      gasolina_93    1344         2   \n",
       "1     co110101             1      gasolina_95    1383         2   \n",
       "2     co110101             1      gasolina_97    1420         2   \n",
       "3     co110101             1  petroleo_diesel    1224         2   \n",
       "\n",
       "   id_precio_combustible  \n",
       "0                      1  \n",
       "1                      2  \n",
       "2                      3  \n",
       "3                      4  "
      ]
     },
     "execution_count": 41,
     "metadata": {},
     "output_type": "execute_result"
    }
   ],
   "source": [
    "df_hecho = main_table(df)\n",
    "df_hecho.head()"
   ]
  },
  {
   "cell_type": "code",
   "execution_count": null,
   "id": "075cdb69-6b39-4790-964f-d29f16ef2409",
   "metadata": {},
   "outputs": [],
   "source": [
    "df_hecho.shape"
   ]
  },
  {
   "cell_type": "markdown",
   "id": "54952e55-f27f-425c-be72-8ffbfa75a8e9",
   "metadata": {},
   "source": [
    "### Insertando tabla de hecho"
   ]
  },
  {
   "cell_type": "code",
   "execution_count": null,
   "id": "e40bebd9-8eab-4aaa-9493-0634f4fa917a",
   "metadata": {},
   "outputs": [],
   "source": [
    "id_fecha = insert_fecha()\n",
    "id_fecha"
   ]
  },
  {
   "cell_type": "code",
   "execution_count": null,
   "id": "6e667eae-68e4-47a2-a573-91da8b37be46",
   "metadata": {},
   "outputs": [],
   "source": [
    "hecho_df['id_fecha'] = id_fecha\n",
    "hecho_df"
   ]
  },
  {
   "cell_type": "code",
   "execution_count": null,
   "id": "90acdf0d-ebb6-44bb-8c74-0478811bd682",
   "metadata": {},
   "outputs": [],
   "source": [
    "hecho_df = set_index(hecho_df)\n",
    "hecho_df.head()"
   ]
  },
  {
   "cell_type": "code",
   "execution_count": null,
   "id": "3069d72b-899f-4dfc-be90-7368affbf313",
   "metadata": {},
   "outputs": [],
   "source": [
    "job_config = bigquery.LoadJobConfig(\n",
    ")\n",
    "\n",
    "job = client.load_table_from_dataframe(\n",
    "    df_hecho, 'acquired-winter-316123.datawarehouse.precio_combustible', job_config=job_config\n",
    ")\n",
    "\n",
    "job.result() "
   ]
  },
  {
   "cell_type": "markdown",
   "id": "8b2be754-2ded-4d5b-af23-45c38b3ef71f",
   "metadata": {
    "jp-MarkdownHeadingCollapsed": true,
    "tags": []
   },
   "source": [
    "## TABLA DE BENCINERAS"
   ]
  },
  {
   "cell_type": "code",
   "execution_count": null,
   "id": "3f68c118-f713-4197-bc1d-ffebd839cd56",
   "metadata": {},
   "outputs": [],
   "source": [
    "df_3 = df.copy()\n",
    "\n",
    "df_bencin = df_3[['id_bencinera', 'razon_social', 'distribuidor_nombre',\n",
    "                  'distribuidor_logo_svg', 'tienda', 'farmacia', 'mantencion',\n",
    "                  'autoservicio', 'pago_efectivo', 'pago_cheque', \n",
    "                   'pago_tarjetas_bancarias', 'pago_tarjetas_grandes_tiendas']]\n",
    "df_bencin"
   ]
  },
  {
   "cell_type": "code",
   "execution_count": null,
   "id": "fe91769d-0fdd-400f-a773-fd08461027bd",
   "metadata": {},
   "outputs": [],
   "source": [
    "job_config = bigquery.LoadJobConfig()\n",
    "\n",
    "job = client.load_table_from_dataframe(\n",
    "    df_bencin, 'acquired-winter-316123.datawarehouse.bencinera', job_config=job_config\n",
    ")\n",
    "\n",
    "job.result()\n"
   ]
  },
  {
   "cell_type": "code",
   "execution_count": null,
   "id": "244c85b7-9fd7-4de1-82c9-4704bb0c0a67",
   "metadata": {},
   "outputs": [],
   "source": [
    "def is_empty(id_tabla):\n",
    "    q = f\"SELECT * FROM `{id_tabla}`\"\n",
    "    res = client.query(q)\n",
    "    n_rows = res.result().total_rows\n",
    "    if n_rows > 0:\n",
    "        False\n",
    "    else:\n",
    "        return True"
   ]
  },
  {
   "cell_type": "code",
   "execution_count": null,
   "id": "3244103a-e31d-43f7-90d7-b9b528b3366a",
   "metadata": {},
   "outputs": [],
   "source": [
    "def bencinas(df):\n",
    "    tabla_bencina = 'acquired-winter-316123.datawarehouse.bencinera'\n",
    "    if is_empty(tabla_bencina):\n",
    "        df_3 = df.copy()\n",
    "\n",
    "        df_bencin = df_3[['id_bencinera', 'razon_social', 'distribuidor_nombre',\n",
    "                          'distribuidor_logo_svg', 'tienda', 'farmacia', 'mantencion',\n",
    "                          'autoservicio', 'pago_efectivo', 'pago_cheque', \n",
    "                           'pago_tarjetas_bancarias', 'pago_tarjetas_grandes_tiendas']]\n",
    "        job_config = bigquery.LoadJobConfig()\n",
    "\n",
    "        job = client.load_table_from_dataframe(\n",
    "            df_bencin, tabla_bencina, job_config=job_config\n",
    "        )\n",
    "\n",
    "        job.result()\n"
   ]
  },
  {
   "cell_type": "code",
   "execution_count": null,
   "id": "18842727-3281-441b-885d-7d9152a61084",
   "metadata": {},
   "outputs": [],
   "source": [
    "bencinas(df)"
   ]
  },
  {
   "cell_type": "markdown",
   "id": "f98b73bc-60cd-4937-adf2-c7184c2b304e",
   "metadata": {
    "tags": []
   },
   "source": [
    "## TABLA UBICACIONES"
   ]
  },
  {
   "cell_type": "code",
   "execution_count": null,
   "id": "1c4f2df8-cd07-45d2-9a63-f2779d0b91fa",
   "metadata": {},
   "outputs": [],
   "source": [
    "df_ubicacion = df[['id_ubicacion', 'nombre_comuna', 'nombre_region',\n",
    "                    'latitud', 'longitud', 'id_bencinera']].copy()\n",
    "df_ubicacion['direccion'] = df['direccion_calle'] + ', ' + df['direccion_numero']\n",
    "df_ubicacion.head()"
   ]
  },
  {
   "cell_type": "code",
   "execution_count": null,
   "id": "07b924d7-ed72-43df-922c-ca712501cd49",
   "metadata": {},
   "outputs": [],
   "source": [
    "def ubicacion(df):\n",
    "    ubicaciones_id = 'acquired-winter-316123.datawarehouse.ubicacion'\n",
    "    if is_empty(ubicaciones_id):\n",
    "        df_copy = df.copy()\n",
    "\n",
    "        df_ubicacion = df_copy[['id_ubicacion', 'nombre_comuna', 'nombre_region',\n",
    "                            'latitud', 'longitud', 'id_bencinera']]\n",
    "        df_ubicacion['direccion'] = df_copy.loc[:,'direccion_calle'] + ', ' + df_copy.loc[:,'direccion_numero']\n",
    "        job_config = bigquery.LoadJobConfig()\n",
    "\n",
    "        job = client.load_table_from_dataframe(\n",
    "            df_ubicacion, ubicaciones_id, job_config=job_config\n",
    "        )\n",
    "\n",
    "        job.result()\n",
    "    "
   ]
  },
  {
   "cell_type": "code",
   "execution_count": null,
   "id": "92bb3cf0-7afa-4e5d-9168-5569964c6b2c",
   "metadata": {},
   "outputs": [],
   "source": [
    "ubicacion(df)"
   ]
  },
  {
   "cell_type": "markdown",
   "id": "b41d178d-eb79-4b4d-9383-f2ae509b74cd",
   "metadata": {},
   "source": [
    "# ACTUALIZAR DIMENSIONES"
   ]
  },
  {
   "cell_type": "markdown",
   "id": "47d27353-74c4-4787-ac0a-ab3836733da3",
   "metadata": {
    "jp-MarkdownHeadingCollapsed": true,
    "tags": []
   },
   "source": [
    "## BENCINERAS"
   ]
  },
  {
   "cell_type": "code",
   "execution_count": null,
   "id": "356bde7a-a8cb-467a-8ca5-a41b648bb19d",
   "metadata": {},
   "outputs": [],
   "source": [
    "benc_table = client.query(f'SELECT * FROM {TABLA_BENCINERAS}')\n",
    "benc_df = benc_table.to_dataframe()"
   ]
  },
  {
   "cell_type": "code",
   "execution_count": null,
   "id": "a2e4d2d7-500f-4096-807f-ae23c292485d",
   "metadata": {},
   "outputs": [],
   "source": [
    "benc_df.head(1)"
   ]
  },
  {
   "cell_type": "code",
   "execution_count": null,
   "id": "408bd76d-1498-4823-b47d-db06aeb9ff42",
   "metadata": {},
   "outputs": [],
   "source": [
    "df_bencin_2 = df_bencin.copy()"
   ]
  },
  {
   "cell_type": "code",
   "execution_count": null,
   "id": "a8aaae96-7930-4b71-958b-7ca857408363",
   "metadata": {},
   "outputs": [],
   "source": [
    "df_bencin_2.loc[df_bencin_2['id_bencinera'] == 'co110101', 'razon_social'] = 'mati'"
   ]
  },
  {
   "cell_type": "code",
   "execution_count": null,
   "id": "681c4886-77c5-4048-9884-a3d04a90d214",
   "metadata": {},
   "outputs": [],
   "source": [
    "def build_updt_stm(table_id, fields_dict, where_field, where_value, where_field_string):\n",
    "    update_stm = f'UPDATE `{table_id}` SET '\n",
    "    dict_len = len(fields_dict)\n",
    "    counter = 0\n",
    "    for key, value in fields_dict.items():\n",
    "        counter += 1\n",
    "        if type(value) == str:\n",
    "            update_stm += f\"{key} = '{value}'\"\n",
    "        else:\n",
    "            update_stm += f\"{key} = {value}\"\n",
    "        if counter < dict_len:\n",
    "            update_stm += ', ' \n",
    "        else:\n",
    "            update_stm += ' '\n",
    "    if where_field_string:\n",
    "        update_stm += f\"WHERE {where_field} = '{where_value}'\"\n",
    "    else:\n",
    "        update_stm += f\"WHERE {where_field} = {where_value}\"\n",
    "    print(update_stm)\n",
    "    client.query(update_stm)"
   ]
  },
  {
   "cell_type": "code",
   "execution_count": null,
   "id": "e744c848-5228-4c40-8946-ed54897ac9a7",
   "metadata": {},
   "outputs": [],
   "source": [
    "rows_to_insert = []\n",
    "for index, row in df_bencin_2.iterrows():\n",
    "    row_to_compare = benc_df.loc[benc_df['id_bencinera'] == row.id_bencinera, :]\n",
    "    if len(row_to_compare.index) == 1:\n",
    "        print('ID encontrado')\n",
    "        to_update = {}\n",
    "        for col in row_to_compare:\n",
    "            if row[col] != row_to_compare[col].values[0]:\n",
    "                to_update[col] = row[col]\n",
    "        build_updt_stm(TABLA_BENCINERAS, to_update, 'id_bencinera', row.id_bencinera, True)\n",
    "    else:\n",
    "        print('Nueva Bencinera!')\n",
    "        rows_to_insert.append(row.to_dict())\n",
    "    break\n",
    "if len(rows_to_insert) > 0:\n",
    "    client.insert_rows_json(TABLA_BENCINERASLA, rows_to_insert)"
   ]
  },
  {
   "cell_type": "code",
   "execution_count": null,
   "id": "b5a9110a-3e36-4307-a603-d0bc0c7344f8",
   "metadata": {},
   "outputs": [],
   "source": [
    "def updated_bencin(df_bencin):\n",
    "    benc_table = client.query(f'SELECT * FROM {TABLA_BENCINERAS}')\n",
    "    benc_df = benc_table.to_dataframe()\n",
    "    rows_to_insert = []\n",
    "    for index, row in df_bencin.iterrows():\n",
    "        row_to_compare = benc_df.loc[benc_df['id_bencinera'] == row.id_bencinera, :]\n",
    "        if len(row_to_compare.index) == 1:\n",
    "            to_update = {}\n",
    "            for col in row_to_compare:\n",
    "                if row[col] != row_to_compare[col].values[0]:\n",
    "                    to_update[col] = row[col]\n",
    "            if len(to_update) > 0:\n",
    "                print('Fila actualizada')\n",
    "                print(to_update)\n",
    "                build_updt_stm(TABLA_BENCINERAS, to_update, 'id_bencinera', row.id_bencinera, True)\n",
    "        else:\n",
    "            print('Nueva Bencinera!')\n",
    "            rows_to_insert.append(row.to_dict())\n",
    "    if len(rows_to_insert) > 0:\n",
    "        print(rows_to_insert)\n",
    "        client.insert_rows_json(TABLA_BENCINERAS, rows_to_insert)"
   ]
  },
  {
   "cell_type": "code",
   "execution_count": null,
   "id": "d678a293-e9a9-44a1-a6f0-6f4231b93669",
   "metadata": {},
   "outputs": [],
   "source": [
    "df_bencin_2.loc[df_bencin_2['id_bencinera'] == 'co110101', 'farmacia'] = True"
   ]
  },
  {
   "cell_type": "code",
   "execution_count": null,
   "id": "e7bfb1e7-e1c6-4b8c-be55-c2c0b2443fb3",
   "metadata": {},
   "outputs": [],
   "source": [
    "df_bencin_2.head()"
   ]
  },
  {
   "cell_type": "code",
   "execution_count": null,
   "id": "f81bf1ae-6156-4c36-8128-e627a32ffaed",
   "metadata": {},
   "outputs": [],
   "source": [
    "mock_row = df_bencin_2.iloc[2].to_dict()\n",
    "mock_row['id_bencinera'] = 'nueva_bencinera_2'\n",
    "mock_row"
   ]
  },
  {
   "cell_type": "code",
   "execution_count": null,
   "id": "c6028c51-a53c-4c03-8138-af49ab487260",
   "metadata": {},
   "outputs": [],
   "source": [
    "df_bencin_2 = df_bencin_2.append(mock_row, ignore_index=True)\n",
    "df_bencin_2.tail()"
   ]
  },
  {
   "cell_type": "code",
   "execution_count": null,
   "id": "dde73fc0-1e46-4d63-9182-86c0d501264d",
   "metadata": {},
   "outputs": [],
   "source": [
    "updated_bencin(df_bencin)"
   ]
  },
  {
   "cell_type": "markdown",
   "id": "d96a141c-59dc-44fb-b9d7-bf8cf66f6933",
   "metadata": {
    "tags": []
   },
   "source": [
    "## UBICACIONES"
   ]
  },
  {
   "cell_type": "code",
   "execution_count": null,
   "id": "b88ebf3b-3e92-4d87-b683-deffb8cb8f09",
   "metadata": {},
   "outputs": [],
   "source": [
    "def update_ubic(df_ubic):\n",
    "    ubic_table = client.query(f'SELECT * FROM {TABLA_UBICACION}')\n",
    "    ubic_df = ubic_table.to_dataframe()\n",
    "    rows_to_insert = []\n",
    "    for index, row in df_ubic.iterrows():\n",
    "        row_to_compare = ubic_df.loc[ubic_df['id_bencinera'] == row.id_bencinera, :]\n",
    "        if len(row_to_compare.index) == 1:\n",
    "            to_update = {}\n",
    "            for col in row_to_compare:\n",
    "                if col == 'id_ubicacion':\n",
    "                    continue\n",
    "                elif row[col] != row_to_compare[col].values[0]:\n",
    "                    to_update[col] = row[col]\n",
    "            if len(to_update) > 0:\n",
    "                print(to_update)\n",
    "                build_updt_stm(TABLA_UBICACION, to_update, 'id_bencinera', row.id_bencinera, True)\n",
    "        else:\n",
    "            print('Nueva Bencinera!')\n",
    "            new_row = row.to_dict()\n",
    "            last_id_q = f\"SELECT id_ubicacion FROM `{TABLA_UBICACION}` ORDER BY id_ubicacion DESC LIMIT 1\"\n",
    "            res = client.query(last_id_q)\n",
    "            last_id = list(res)[0][0] + 1\n",
    "            print('Siguiente ID:', last_id)\n",
    "            new_row['id_ubicacion'] = last_id\n",
    "            rows_to_insert.append(new_row)\n",
    "    if len(rows_to_insert) > 0:\n",
    "        client.insert_rows_json(TABLA_UBICACION, rows_to_insert)"
   ]
  },
  {
   "cell_type": "code",
   "execution_count": null,
   "id": "b6fe7f5f-4e36-46e3-8fa4-a5db42c36b60",
   "metadata": {},
   "outputs": [],
   "source": [
    "df_ubi_2 = df_ubicacion.copy()"
   ]
  },
  {
   "cell_type": "code",
   "execution_count": null,
   "id": "f8599270-e980-4754-9bcf-ed33571acc59",
   "metadata": {},
   "outputs": [],
   "source": [
    "df_ubi_2.loc[df_ubi_2['id_bencinera'] == 'co110101', 'nombre_comuna'] = 'mati'\n",
    "mock_row = df_ubi_2.iloc[5]\n",
    "mock_row = mock_row.to_dict()\n",
    "mock_row['nombre_region'] = 'nueva_region_2'\n",
    "mock_row['id_bencinera'] = 'hola'\n",
    "df_ubi_2 = df_ubi_2.append(mock_row, ignore_index=True)\n",
    "df_ubi_2.head()"
   ]
  },
  {
   "cell_type": "code",
   "execution_count": null,
   "id": "fff6b8de-5821-4b20-892e-ed2669bd37d9",
   "metadata": {},
   "outputs": [],
   "source": [
    "df_ubi.tail()"
   ]
  },
  {
   "cell_type": "code",
   "execution_count": null,
   "id": "30a06f44-9c86-4e19-ba3b-5c7bd04c2546",
   "metadata": {},
   "outputs": [],
   "source": [
    "update_ubic(df_ubicacion)"
   ]
  }
 ],
 "metadata": {
  "kernelspec": {
   "display_name": "Python 3 (ipykernel)",
   "language": "python",
   "name": "python3"
  },
  "language_info": {
   "codemirror_mode": {
    "name": "ipython",
    "version": 3
   },
   "file_extension": ".py",
   "mimetype": "text/x-python",
   "name": "python",
   "nbconvert_exporter": "python",
   "pygments_lexer": "ipython3",
   "version": "3.10.4"
  }
 },
 "nbformat": 4,
 "nbformat_minor": 5
}
